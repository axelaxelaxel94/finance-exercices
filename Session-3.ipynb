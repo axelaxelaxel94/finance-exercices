{
 "cells": [
  {
   "cell_type": "markdown",
   "metadata": {},
   "source": [
    "## **<center> Lecture 3 : Slightly more advanced Python and Data Visualization </center>**"
   ]
  },
  {
   "cell_type": "markdown",
   "metadata": {},
   "source": [
    "#### <u> 1. Object-Oriented Programming </u>\n",
    "- Allows for the creation of modular and reusable code structures\n",
    "- Especially vital for complex financial simulations and modeling\n",
    "\n",
    "##### **Basic Concepts of OOP**\n",
    "- **Class :** Blueprint for creating objkects\n",
    "- **Object :** Specific instance of a class\n",
    "- **Attribute :** Properties or specifics of the financial instrument\n",
    "- **Method :** Actions or calculations one can perform on the financial instrument"
   ]
  },
  {
   "cell_type": "code",
   "execution_count": 6,
   "metadata": {},
   "outputs": [
    {
     "name": "stdout",
     "output_type": "stream",
     "text": [
      "Yield on note : 2.632 %\n"
     ]
    }
   ],
   "source": [
    "class Bond:\n",
    "    # Ici l'utilisation d'une classe centralise tous les attributs et méthdoes rendant le code plus organisé et facile à éténdre pour des calculs financiers supplementaires. \n",
    "    # Permet aussi de créer plusieurs instances de bond avec des avec des caractéristiques différentes de façon très pratique\n",
    "     \n",
    "    def __init__(self, par_value, coupon_rate, maturity):\n",
    "        # Init est le constructeur de la classe, il est appelé automatiquement quand tu crées une nouvelle instance de la classe.\n",
    "        self.par_value = par_value\n",
    "        self.coupon_rate = coupon_rate\n",
    "        self.maturity = maturity \n",
    "        # Self représente l'instance de l'objet lui-même. En Python il doit être le 1er paramètre pour toute méthode d'instance\n",
    "        # Permet d'accéder aux attributs et méthodes de la classe au sein de la classe elle-même.\n",
    "        # Par exemple, 'self.par_value' accède à l'attribut 'par_value' de l'instance de la classe\n",
    "    \n",
    "    def current_yield(self, market_price):\n",
    "        return (self.coupon_rate * self.par_value) / market_price \n",
    "    \n",
    "ten_year_note = Bond(1000, 0.025, 10)\n",
    "yield_on_note = ten_year_note.current_yield(950)\n",
    "# Ici on a donc 2 objets, qui sont des instances de la classe \"Bond\"\n",
    "\n",
    "print(f\"Yield on note : {yield_on_note *100:.3f} %\")\n"
   ]
  },
  {
   "cell_type": "markdown",
   "metadata": {},
   "source": [
    "**Exercise 1 : Stock and Dividends**"
   ]
  },
  {
   "cell_type": "code",
   "execution_count": 7,
   "metadata": {},
   "outputs": [
    {
     "name": "stdout",
     "output_type": "stream",
     "text": [
      "Dividend Yield 0.55 %\n"
     ]
    }
   ],
   "source": [
    "class Stock:\n",
    "    def __init__(self, name, price, dividend):\n",
    "        self.name = name \n",
    "        self.price = price \n",
    "        self.dividend = dividend \n",
    "    \n",
    "    def yield_dividend(self):\n",
    "        return self.dividend / self.price\n",
    "\n",
    "apple_stock = Stock('Apple', 150, 0.82)\n",
    "print(f\"Dividend Yield {apple_stock.yield_dividend() *100:.2f} %\")"
   ]
  },
  {
   "cell_type": "markdown",
   "metadata": {},
   "source": [
    "<span style=\"color:red\"> **Exercice 2 : Financial Instrument Portfolio** </span>\n"
   ]
  },
  {
   "cell_type": "code",
   "execution_count": 21,
   "metadata": {},
   "outputs": [
    {
     "name": "stdout",
     "output_type": "stream",
     "text": [
      "Valeur totale du portefeuille : 1000.00\n"
     ]
    }
   ],
   "source": [
    "import pandas as pd\n",
    "\n",
    "class Stock:\n",
    "    def __init__(self, name, price):\n",
    "        self.name = name\n",
    "        self.price = price\n",
    "\n",
    "class Portfolio:\n",
    "    def __init__(self):\n",
    "        self.stock = [] # Initialisation d'une liste vide\n",
    "    \n",
    "    def add_stock(self):\n",
    "        name = input(\"Quel stock ? :\")\n",
    "        price = float(input(\"Montant de la ligne :\"))\n",
    "        stock = Stock(name, price)\n",
    "        self.stock.append(stock)  # ajoute l'action dans la liste définit dans la fonction juste au dessus\n",
    "\n",
    "    def total_value(self):\n",
    "        return sum(stock.price for stock in self.stock) # En français : on fait la somme des prix des stocks pour chaque stock dans la liste self.stock\n",
    "    \n",
    "# Portfolio est une instance de la classe Portfolio (c'est un objet créé à partir de cette classe, qui en a les attributs)\n",
    "# Le fait qu'il en possède les attributs et méthode définit dans la classe permet d'utiliser les méthodes add_instrument et total_value\n",
    "portfolio = Portfolio()\n",
    "\n",
    "while True:\n",
    "    choice = input(\"Rajouter un stock en plus ? oui / non\")\n",
    "    if choice == 'oui':\n",
    "        portfolio.add_stock()\n",
    "    else:\n",
    "        break # Utile pour sortir de la boucle avant qu'une erreur survienne\n",
    "\n",
    "total_value = portfolio.total_value()\n",
    "print(f\"Valeur totale du portefeuille : {total_value:.2f}\")\n",
    "\n",
    "#### A RETENIR ICI ####\n",
    "# - Break permet de sortir d'une boucle sans erreur \n",
    "# - En créant une classe avec plusieurs attributs et en créant un objet au sein de la classe, on peut prédefinir des actions qu'on a juste à appeler avec un : nom.attributs \n",
    "\n",
    "# Questions : en soit, le fait de créer une classe, c'est un peu comme créer son propre module ? "
   ]
  },
  {
   "cell_type": "markdown",
   "metadata": {},
   "source": [
    "<span style=\"color:red\"> **Exercice 3 : Currency Conversion** </span>\n"
   ]
  },
  {
   "cell_type": "code",
   "execution_count": 28,
   "metadata": {},
   "outputs": [
    {
     "name": "stdout",
     "output_type": "stream",
     "text": [
      "15000.0 JPY vaut 94.47 EUR\n"
     ]
    }
   ],
   "source": [
    "import yfinance as yf\n",
    "\n",
    "class FxConverter:\n",
    "    def __init__(self):\n",
    "        self.rates = {} # Initialisation d'un dictionnaire vide pour stocker les taux de conv.\n",
    "    \n",
    "    def update_rates(self, source, target):\n",
    "        ticker = f\"{source}{target}=X\" # Permet de créer dynamiquement le symbole du ticker pour n'importe quelle paire de forex, en décomposant le ticker important en une formatted string\n",
    "        # source et target deviennent des target a part entière\n",
    "        # Le X est spécifique à yfinance, par exemple le taux de change eurodollar s'écrit EURUSD=X\n",
    "        rate_data = yf.Ticker(ticker) \n",
    "        rate_info = rate_data.history(period=\"1d\") \n",
    "        self.rates[f\"{source}_TO_{target}\"] = rate_info['Close'][0] # On stocke la paire de devise dans le dictionnaire en f-string\n",
    "    \n",
    "    def convert(self, amount, source, target):\n",
    "        key = f\"{source}_TO_{target}\" # On utilise cette f-string pour créer une clé unique pour la paire de devise \n",
    "        if key not in self.rates: # Cette clé nous permet facilement de faire une recherche dans notre dictionnaire\n",
    "            self.update_rates(source, target) # En gros ici si key n'est pas présent dans le dico, alors on réactualise \n",
    "\n",
    "        return amount * self.rates[key] \n",
    "   \n",
    "converter = FxConverter()\n",
    "\n",
    "amount_to_convert = float(input(\"Montant à convertir :\"))\n",
    "source_currency = input(\"Devise d'origine :\")\n",
    "target_currency = input(\"Devise de conversion :\")\n",
    "\n",
    "converted_amount = converter.convert(amount_to_convert, source_currency, target_currency)\n",
    "print(f\"{amount_to_convert} {source_currency} vaut {converted_amount:.2f} {target_currency}\")\n",
    "\n",
    "#### A RETENIR ICI ####\n",
    "# - Utilisé dans ce code, un dictionnaire est souvent plus pratique qu'une liste lorsque l'on a besoin de relation clé-valeur\n",
    "# - Dans un dictionnaire chaque clé est unique, ce qui permet de rapidement faire une recherche avec : mon_dict[clé]"
   ]
  },
  {
   "cell_type": "markdown",
   "metadata": {},
   "source": [
    "#### <u> 2. Mathematical Tools using Numpy </u>\n",
    "\n",
    "**Exercise 1 : Stock Price Simulations**"
   ]
  },
  {
   "cell_type": "code",
   "execution_count": 22,
   "metadata": {},
   "outputs": [
    {
     "name": "stdout",
     "output_type": "stream",
     "text": [
      "114.46\n"
     ]
    },
    {
     "data": {
      "image/png": "[encoded data removed]",
      "text/plain": [
       "<Figure size 640x480 with 1 Axes>"
      ]
     },
     "metadata": {},
     "output_type": "display_data"
    }
   ],
   "source": [
    "import numpy as np\n",
    "import matplotlib.pyplot as plt\n",
    "\n",
    "# np.random.seed(0) # Utile pour la reproductibilité\n",
    "daily_returns = np.random.normal(0.001, 0.02, 1000) # On génère ici 1000 retours quotidien en utilisant une loi normale de moyenne 0.001 et un écart type de 0.02\n",
    "stock_prices = [100] # Prix du stock au jours 0\n",
    "for r in daily_returns:\n",
    "    stock_prices.append(stock_prices[-1] * (1+r)) # Pour chaque rendement quotidien r, on prends le dernier prix dans la liste stock_prices qu'on multiplie par (1+r) et qu'on ajoute à la liste stock_prices\n",
    "\n",
    "print(f\"{stock_prices[-1]:.2f}\") # A la fin on regarde combien coûte l'action, le -1 sert à accéder au dernier élément de la liste \n",
    "plt.plot(stock_prices)\n",
    "plt.grid(True)\n",
    "\n",
    "### A RETENIR ICI ###\n",
    "# Pour parcourir une liste en partant de la fin, il suffit juste de passer le nombre en négatif\n",
    "\n",
    "### QUESTION : Pourquoi quand on augmente l'écart-type, le prix de l'action tend vers 0, et inversement"
   ]
  },
  {
   "cell_type": "markdown",
   "metadata": {},
   "source": [
    "<span style=\"color:red\"> **Exercice 2 : Portfolio Variance** </span>\n",
    "\n",
    "<u> La Variance </u>\n",
    "- Mesure statistique qui représente la dispersion des valeurs d'un ensemble de données. En gros, elle indique à quel point les valeurs de cet ensemble sont éloignées de la moyenne\n",
    "- En finance, elle est souvent convertie en écart-type (racine carré de la variance) pour la rendre + interprétable, car l'écart type est exprimé dans les mêmes unités que les données originales\n",
    "\n",
    "$$ \\sigma_p^2 = \\sum_{i=1}^{n} \\sum_{j=1}^{n} w_i w_j \\sigma_i \\sigma_j \\rho_{ij} $$"
   ]
  },
  {
   "cell_type": "code",
   "execution_count": 7,
   "metadata": {},
   "outputs": [
    {
     "name": "stdout",
     "output_type": "stream",
     "text": [
      "DataFrame de la matrice de covariance\n",
      "          Asset_1   Asset_2\n",
      "Asset_1  0.000502  0.000007\n",
      "Asset_2  0.000007  0.000329\n",
      "La variance du portefeuille est : 0.000237\n"
     ]
    }
   ],
   "source": [
    "import numpy as np\n",
    "import pandas as pd \n",
    "\n",
    "class Portfolio :\n",
    "    def __init__ (self, weights, returns_data):\n",
    "        self.weights = np.array(weights) # On convertit les poids données en un array numpy\n",
    "        self.returns_data = pd.DataFrame(returns_data) # On convertit les données de rendement dans un DF\n",
    "    \n",
    "    def portfolio_variance(self):\n",
    "        correlation_matrix = self.returns_data.corr() # 1. On utilise la méthode .corr de pandas pour obtenir la matrice de corrélation desnrendements\n",
    "        std_devs = self.returns_data.std() # 2. Pareil mais pour la vol\n",
    "        covariance_matrix = np.outer(std_devs, std_devs) * correlation_matrix.to_numpy() # 3. Calcul de la matrice de cov\n",
    "        covariance_df = pd.DataFrame(covariance_matrix, index=self.returns_data.columns, columns=self.returns_data.columns) # DF Covariance pour une meilleure compréhension\n",
    "        print(\"DataFrame de la matrice de covariance :\")\n",
    "        print(covariance_df)\n",
    "        # np.outer -> calcule le produit extérieure de 2 vecteurs, par exemple pour [a, b] et [x, y] -> a*y ; b*x ; b*y etc...\n",
    "        # correlation_matrix.to_numpy -> convertit la matrice de correlation pandas en un array numpy\n",
    "        # Matrice de covariance = produit extérieur des écarts-type * matrice de corrélation\n",
    "        portfolio_variance = np.dot(self.weights.T, np.dot(covariance_matrix, self.weights)) # Calcul de la variance\n",
    "        # np.dot -> permet d'effectuer le produit scalaire de 2 tableaux\n",
    "        return portfolio_variance\n",
    "    \n",
    "    # En gros ca donne :\n",
    "    # 1. On mesure la corrélation entre les différents actifs du portefeuille\n",
    "    # 2. On calcul la vol de chaque actifs\n",
    "    # 3. On combine les deux informations pour obtenir la matrice de covariance, qui nous donne une idée de comment les actifs du portefeuille intéragissent entre eux\n",
    "    # 4. On utilise le poids des différents actifs pour calculer la variance totale du portefeuille. On prends ces poinds et on les combine avec la matrice de covariance\n",
    "\n",
    "returns_data = {\n",
    "    'Asset_1': np.random.normal(0.001, 0.02, 100),  \n",
    "    'Asset_2': np.random.normal(0.001, 0.02, 100)\n",
    "}\n",
    "\n",
    "weights = [0.6, 0.4]\n",
    "\n",
    "# Création d'une instance de la classe Portfolio\n",
    "my_portfolio = Portfolio(weights, returns_data)\n",
    "\n",
    "variance = my_portfolio.portfolio_variance()\n",
    "print(f\"La variance du portefeuille est : {variance:.6f}\")\n",
    "\n",
    "### A RETENIR ICI ###\n",
    "# - Un array en NumPy est une structure de données permettant de contenir des élements du même type, indexée par un tuple de N entiers positif\n",
    "# Très utile pour effectuer des opérations mathématiques et pour manipuler les données\n"
   ]
  },
  {
   "cell_type": "markdown",
   "metadata": {},
   "source": [
    "<span style=\"color:red\"> **Exercice 3 : The Efficient Frontier** </span>"
   ]
  },
  {
   "cell_type": "code",
   "execution_count": 10,
   "metadata": {},
   "outputs": [
    {
     "name": "stdout",
     "output_type": "stream",
     "text": [
      "Sample de rendement et volatilité pour quelques combinaisons de poids :\n",
      "Rendement : 12.20% | Volatilité : 17.31% | Poids : 56.02%, 43.98%\n",
      "Rendement : 12.59% | Volatilité : 18.29% | Poids : 48.21%, 51.79%\n",
      "Rendement : 13.57% | Volatilité : 22.17% | Poids : 28.59%, 71.41%\n",
      "Rendement : 11.31% | Volatilité : 16.72% | Poids : 73.76%, 26.24%\n",
      "Rendement : 12.66% | Volatilité : 18.51% | Poids : 46.73%, 53.27%\n",
      "Rendement : 12.52% | Volatilité : 18.08% | Poids : 49.66%, 50.34%\n",
      "Rendement : 12.39% | Volatilité : 17.73% | Poids : 52.23%, 47.77%\n",
      "Rendement : 11.14% | Volatilité : 16.88% | Poids : 77.15%, 22.85%\n",
      "Rendement : 11.87% | Volatilité : 16.81% | Poids : 62.64%, 37.36%\n",
      "Rendement : 12.47% | Volatilité : 17.95% | Poids : 50.58%, 49.42%\n"
     ]
    }
   ],
   "source": [
    "import numpy as np\n",
    "\n",
    "class Portfolio:\n",
    "    def __init__(self, returns, volatilities): # Constructeur de classe\n",
    "        # Conversion des listes de rendements et des vol en tableaux Numpy pour facilier les calculs\n",
    "        self.returns = np.array(returns) \n",
    "        self.volatilities = np.array(volatilities)\n",
    "\n",
    "    def portfolio_performance(self, num_portfolios=1000): # On définit la méthode pour calculerla performance du portefeuille\n",
    "        # Initialisation de 3 listes vides pour stocker les data\n",
    "        portfolio_returns = []\n",
    "        portfolio_volatilities = []\n",
    "        portfolio_weights = []\n",
    "        \n",
    "        for _ in range(num_portfolios):\n",
    "            # _ est une \"dummy variable\" (quand on a pas l'intention d'utiliser la variable dans le corps de la boucle)\n",
    "            # L'important ici n'est pas la variable elle-même, mais le nombre de portfolios\n",
    "            weights = np.random.random(2)\n",
    "            weights /= np.sum(weights)\n",
    "            \n",
    "            portfolio_return = np.dot(weights, self.returns) # Rendement = somme pondérée des rendement des actifs\n",
    "            portfolio_volatility = np.sqrt(np.dot(weights.T, np.dot(np.diag(self.volatilities ** 2), weights)))\n",
    "            # np.diag -> Créé une matrice diagonale, ici à partir des variances des actifs\n",
    "            \n",
    "            portfolio_returns.append(portfolio_return)\n",
    "            portfolio_volatilities.append(portfolio_volatility)\n",
    "            portfolio_weights.append(weights)\n",
    "            # Ajout du rendement, de la volatilité, et des poids du portefeuille\n",
    "\n",
    "        return portfolio_returns, portfolio_volatilities, portfolio_weights\n",
    "\n",
    "returns = [0.10, 0.15]\n",
    "volatilities = [0.20, 0.30]  \n",
    "my_portfolio = Portfolio(returns, volatilities)\n",
    "portfolio_returns, portfolio_volatilities, portfolio_weights = my_portfolio.portfolio_performance()\n",
    "### En gros ici : ###\n",
    "# - On définit les returns et la volatilité des 2 actifs\n",
    "# - On définit my_portfolio, instance de la classe portfolio, avec les paramètres définit au dessus qui seront stocké dans les listes\n",
    "# - Puis enfin, on appelle la fonction calculate_portfolio_performance avec 3 listes vides, qui a la fin de la fonction seront pleines\n",
    "\n",
    "print(\"Sample de rendement et volatilité pour quelques combinaisons de poids :\")\n",
    "for i in range(0, len(portfolio_returns), 100): # La boucle for itère sur les index de i a 0, jusqu'à la longueur de portfolio_returns (donc 1000) avec un pas de 100\n",
    "    # i -> variable temporaire (qui pourrait tout aussi bien être index, x, az) qui prends les valeurs de 0 jusqu'à la longueur de portfolio_returns\n",
    "    # range(premier argument, valeur de fin, pas entre chaque itération)\n",
    "    # len -> renvoie la longueur d'un objet\n",
    "    weight_str = \", \".join([f\"{w * 100:.2f}%\" for w in portfolio_weights[i]]) # Mise en forme des returns\n",
    "    # \", \".join -> joint les élements de la liste en une seule chaîne de caractère, en les séparant pour une virgule et un espace\n",
    "    # le reste veut dire que pour chaque poids w dans la liste des poids, on le multiple par 100 puis formatage pour avoir 2 chiffres après la virgule\n",
    "    print(f\"Rendement : {portfolio_returns[i] * 100:.2f}% | Volatilité : {portfolio_volatilities[i] * 100:.2f}% | Poids : {weight_str}\")\n"
   ]
  },
  {
   "cell_type": "markdown",
   "metadata": {},
   "source": []
  }
 ],
 "metadata": {
  "kernelspec": {
   "display_name": "Python 3",
   "language": "python",
   "name": "python3"
  },
  "language_info": {
   "codemirror_mode": {
    "name": "ipython",
    "version": 3
   },
   "file_extension": ".py",
   "mimetype": "text/x-python",
   "name": "python",
   "nbconvert_exporter": "python",
   "pygments_lexer": "ipython3",
   "version": "3.11.3"
  }
 },
 "nbformat": 4,
 "nbformat_minor": 2
}
