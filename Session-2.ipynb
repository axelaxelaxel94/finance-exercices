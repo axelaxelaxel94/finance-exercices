{
 "cells": [
  {
   "cell_type": "markdown",
   "metadata": {},
   "source": [
    "## **<center> Lecture 2 : Introduction to Python and Basic Programming </center>**"
   ]
  },
  {
   "cell_type": "markdown",
   "metadata": {},
   "source": [
    "#### <u> 1. Data Types and Structures </u>"
   ]
  },
  {
   "cell_type": "markdown",
   "metadata": {},
   "source": [
    "**Basic Data Types**\n",
    "\n",
    "- Integers(int): Nombre entier\n",
    "- Floats(float): Nombre décimal\n",
    "- Strings(str): Séquence de caractère\n",
    "\n",
    "**Collections**\n",
    "- Lists: Séquence ordonné d'éléments. Une liste est modifiable\n",
    "- Dictionaries(dict): Collection of key-value pairs. Dictionaries are mutable"
   ]
  },
  {
   "cell_type": "code",
   "execution_count": 7,
   "metadata": {},
   "outputs": [
    {
     "name": "stdout",
     "output_type": "stream",
     "text": [
      "{'ticker': 'AAPL', 'opening_price': '142.8', 'closing_price': '143.2', 'volume': '120 000'}\n",
      "{'ticker': 'AAPL', 'opening_price': 142.7, 'closing_price': 143.2, 'volume': 1200000}\n"
     ]
    }
   ],
   "source": [
    "# Dictionaries\n",
    "stock_data = dict(ticker=\"AAPL\", opening_price=\"142.8\", closing_price =\"143.2\", volume = \"120 000\")\n",
    "print(stock_data)\n",
    "\n",
    "# Deuxième possibilité :\n",
    "\n",
    "stock_details = {\n",
    "\"ticker\": \"AAPL\",\n",
    "\"opening_price\": 142.7,\n",
    "\"closing_price\": 143.2,\n",
    "\"volume\": 1200000\n",
    "}\n",
    "print(stock_details)"
   ]
  },
  {
   "cell_type": "code",
   "execution_count": 5,
   "metadata": {},
   "outputs": [
    {
     "name": "stdout",
     "output_type": "stream",
     "text": [
      "['AAPL', 'MSFT', 'GOOGL']\n",
      "['AAPL', 'MSFT', 'GOOGL', 'NVDA']\n"
     ]
    }
   ],
   "source": [
    "# Collection\n",
    "stocks = [\"AAPL\", \"MSFT\", \"GOOGL\"]\n",
    "print(stocks)\n",
    "\n",
    "stocks.append(\"NVDA\")\n",
    "print(stocks)"
   ]
  },
  {
   "cell_type": "markdown",
   "metadata": {},
   "source": [
    "#### <u> 2. Python Iterative and Conditional Constructs </u>"
   ]
  },
  {
   "cell_type": "markdown",
   "metadata": {},
   "source": [
    "**Loops**\n",
    "- For Loops: Utilisée pour itérer sur une séquence (liste, typle, dictionnaire etc.). Ici le nombre d'itération est déterminé à l'avance\n",
    "- White Loop: Exécute un bloc de code tant qu'une condition est vraie. Le nombre d'itérations n'est pas connu à l'avance. "
   ]
  },
  {
   "cell_type": "code",
   "execution_count": 27,
   "metadata": {},
   "outputs": [
    {
     "name": "stdout",
     "output_type": "stream",
     "text": [
      "7.00 %\n",
      "-2.80 %\n",
      "1.92 %\n",
      "-2.83 %\n",
      "1.94 %\n",
      "2.86 %\n",
      "6.48 %\n",
      "Average Return : 0.93 %\n"
     ]
    }
   ],
   "source": [
    "import numpy as np\n",
    "\n",
    "# Loops\n",
    "stock_prices = [100, 107, 104, 106, 103, 105, 108, 115]\n",
    "days = len(stock_prices) - 1\n",
    "\n",
    "for i in range(1, len(stock_prices)):\n",
    "# Len: Renvoi la longueur de la liste, càd le nombre d'élement qu'elle contient\n",
    "    daily_return = ((stock_prices[i] - stock_prices[i-1]) / stock_prices[i-1])\n",
    "\n",
    "    print(f\"{daily_return *100:.2f} %\")\n",
    "\n",
    "total_return = np.sum(daily_return)\n",
    "average_return = (total_return / days)\n",
    "\n",
    "print(f\"Average Return : {average_return *100:.2f} %\")"
   ]
  },
  {
   "cell_type": "code",
   "execution_count": 13,
   "metadata": {},
   "outputs": [
    {
     "name": "stdout",
     "output_type": "stream",
     "text": [
      "11\n"
     ]
    }
   ],
   "source": [
    "# White Loop\n",
    "principal = 500\n",
    "rate = 0.07\n",
    "years = 0\n",
    "while principal < 1000:\n",
    "    principal *= (1 + rate)\n",
    "    # *= -> principal = principal * (1 + rate), évite une répetition\n",
    "    years += 1\n",
    "    # += -> pareil mais avec +\n",
    "print(years)"
   ]
  },
  {
   "cell_type": "markdown",
   "metadata": {},
   "source": [
    "**Conditional Statements**\n",
    "- If Statement : faire un choix en se basant sur une donnée quantitative\n",
    "- Elif and Else : sous condition de if\n",
    "\n",
    "En gros : Si, Alors, Sinon"
   ]
  },
  {
   "cell_type": "code",
   "execution_count": 15,
   "metadata": {},
   "outputs": [
    {
     "name": "stdout",
     "output_type": "stream",
     "text": [
      "Buy The Stock\n"
     ]
    }
   ],
   "source": [
    "pe_ratio = float(input(\"P/E de l'action ? :\"))\n",
    "if pe_ratio < 15:\n",
    "    print(\"Buy The Stock\")\n",
    "elif pe_ratio > 25:\n",
    "    print(\"Sell the stock\")\n",
    "else:\n",
    "    print(\"Hold the stock\")"
   ]
  },
  {
   "cell_type": "code",
   "execution_count": null,
   "metadata": {},
   "outputs": [],
   "source": []
  }
 ],
 "metadata": {
  "kernelspec": {
   "display_name": "Python 3",
   "language": "python",
   "name": "python3"
  },
  "language_info": {
   "codemirror_mode": {
    "name": "ipython",
    "version": 3
   },
   "file_extension": ".py",
   "mimetype": "text/x-python",
   "name": "python",
   "nbconvert_exporter": "python",
   "pygments_lexer": "ipython3",
   "version": "3.11.6"
  },
  "orig_nbformat": 4
 },
 "nbformat": 4,
 "nbformat_minor": 2
}
